{
  "cells": [
    {
      "cell_type": "markdown",
      "metadata": {
        "id": "ENAIWT90trHx"
      },
      "source": [
        "TensorFlow Introduction"
      ]
    },
    {
      "cell_type": "markdown",
      "source": [
        "**0.1 Install TensorFlow**"
      ],
      "metadata": {
        "id": "7lX6qPn3T6Lq"
      }
    },
    {
      "cell_type": "markdown",
      "source": [
        "\n",
        "TensorFlow is a software library extensively used in machine learning. Here we'll learn how computations are represented and how to define a simple neural network in TensorFlow. For all the TensorFlow labs in Introduction to Deep Learning 2025, we'll be using TensorFlow 2, which affords great flexibility and the ability to imperatively execute operations, just like in Python. You'll notice that TensorFlow 2 is quite similar to Python in its syntax and imperative execution. Let's install TensorFlow and a couple of dependencies."
      ],
      "metadata": {
        "id": "JbmkVlVUUG1N"
      }
    },
    {
      "cell_type": "code",
      "source": [
        "import tensorflow as tf\n",
        "\n",
        "import numpy as np\n",
        "import matplotlib.pyplot as plt"
      ],
      "metadata": {
        "id": "iQEd_8slUImh"
      },
      "execution_count": null,
      "outputs": []
    },
    {
      "cell_type": "markdown",
      "source": [
        "**1.1 Why is TensorFlow called TensorFlow?**"
      ],
      "metadata": {
        "id": "-wQbJImOUOPh"
      }
    },
    {
      "cell_type": "markdown",
      "source": [
        "TensorFlow is called 'TensorFlow' because it handles the flow (node/mathematical operation) of Tensors, which are data structures that you can think of as multi-dimensional arrays. Tensors are represented as n-dimensional arrays of base dataypes such as a string or integer -- they provide a way to generalize vectors and matrices to higher dimensions."
      ],
      "metadata": {
        "id": "AXtiFrwqUUi-"
      }
    },
    {
      "cell_type": "markdown",
      "source": [
        "The shape of a Tensor defines its number of dimensions and the size of each dimension. The rank of a Tensor provides the number of dimensions (n-dimensions) -- you can also think of this as the Tensor's order or degree."
      ],
      "metadata": {
        "id": "hM9kqxOaUXa6"
      }
    },
    {
      "cell_type": "code",
      "source": [
        "#Let's first look at 0-d Tensors, of which a scalar is an example\n",
        "sport = tf.constant(\"Tennis\", tf.string)\n",
        "number = tf.constant(1.41421356237, tf.float64)\n",
        "\n",
        "print(\"`sport` is a {}-d Tensor\".format(tf.rank(sport).numpy()))\n",
        "print(\"`number` is a {}-d Tensor\".format(tf.rank(number).numpy()))"
      ],
      "metadata": {
        "id": "VitX1uTLULKu"
      },
      "execution_count": null,
      "outputs": []
    },
    {
      "cell_type": "code",
      "source": [
        "#Vectors and lists can be used to create 1-d Tensors:\n",
        "sports = tf.constant([\"Tennis\", \"Basketball\"], tf.string)\n",
        "numbers = tf.constant([3.141592, 1.414213, 2.71821], tf.float64)\n",
        "\n",
        "print(\"`sports` is a {}-d Tensor with shape: {}\".format(tf.rank(sports).numpy(), tf.shape(sports)))\n",
        "print(\"`numbers` is a {}-d Tensor with shape: {}\".format(tf.rank(numbers).numpy(), tf.shape(numbers)))"
      ],
      "metadata": {
        "id": "VDnWSAJyUwaZ"
      },
      "execution_count": null,
      "outputs": []
    },
    {
      "cell_type": "markdown",
      "source": [
        "Next we consider creating 2-d (i.e., matrices) and higher-rank Tensors. For examples, in future labs involving image processing and computer vision, we will use 4-d Tensors. Here the dimensions correspond to the number of example images in our batch, image height, image width, and the number of color channels."
      ],
      "metadata": {
        "id": "KGsmWtNFU7aI"
      }
    },
    {
      "cell_type": "code",
      "source": [
        "# Defining higher-order Tensors\n",
        "matrix=tf.constant([[1,2,3,4,5,6]])\n",
        "\n",
        "assert isinstance(matrix, tf.Tensor), \"matrix must be a tf Tensor object\"\n",
        "assert tf.rank(matrix).numpy() == 2"
      ],
      "metadata": {
        "id": "f-XlK9goU4-C"
      },
      "execution_count": null,
      "outputs": []
    },
    {
      "cell_type": "code",
      "source": [
        "images=tf.random.uniform([10,256,256,3])\n",
        "\n",
        "assert isinstance(images, tf.Tensor), \"matrix must be a tf Tensor object\"\n",
        "assert tf.rank(images).numpy() == 4, \"matrix must be of rank 4\"\n",
        "assert tf.shape(images).numpy().tolist() == [10, 256, 256, 3], \"matrix is incorrect shape\""
      ],
      "metadata": {
        "id": "V3REEYtJVS1f"
      },
      "execution_count": null,
      "outputs": []
    },
    {
      "cell_type": "markdown",
      "source": [
        "\n",
        "As you have seen, the shape of a Tensor provides the number of elements in each Tensor dimension. The shape is quite useful, and we'll use it often. You can also use slicing to access subtensors within a higher-rank Tensor:"
      ],
      "metadata": {
        "id": "Jaqg5ErXWX3k"
      }
    },
    {
      "cell_type": "code",
      "source": [
        "row_vector = matrix[0]\n",
        "column_vector = matrix[:,1]\n",
        "scalar = matrix[0, 1]\n",
        "\n",
        "print(\"`row_vector`: {}\".format(row_vector.numpy()))\n",
        "print(\"`column_vector`: {}\".format(column_vector.numpy()))\n",
        "print(\"`scalar`: {}\".format(scalar.numpy()))"
      ],
      "metadata": {
        "id": "E4Fw89pGVcC5"
      },
      "execution_count": null,
      "outputs": []
    },
    {
      "cell_type": "markdown",
      "source": [
        "**1.2 Computations on Tensors**"
      ],
      "metadata": {
        "id": "VNwLdC1QWaeM"
      }
    },
    {
      "cell_type": "markdown",
      "source": [
        "A convenient way to think about and visualize computations in TensorFlow is in terms of graphs. We can define this graph in terms of Tensors, which hold data, and the mathematical operations that act on these Tensors in some order"
      ],
      "metadata": {
        "id": "4JXZ4YbHWr_1"
      }
    },
    {
      "cell_type": "code",
      "source": [
        "#Create the nodes in the graph, and initialize values\n",
        "a = tf.constant(15)\n",
        "b = tf.constant(61)\n",
        "\n",
        "# Add them!\n",
        "c1 = tf.add(a,b)\n",
        "c2 = a + b # TensorFlow overrides the \"+\" operation so that it is able to act on Tensors\n",
        "print(c1)\n",
        "print(c2)"
      ],
      "metadata": {
        "id": "AwVAbMglVe0f"
      },
      "execution_count": null,
      "outputs": []
    },
    {
      "cell_type": "code",
      "source": [
        "# Construct a simple computation function\n",
        "def func(a,b):\n",
        "\n",
        "  c=a+b\n",
        "  d=b-1\n",
        "  e=c*d\n",
        "  return e"
      ],
      "metadata": {
        "id": "mVtQcdNmWyIV"
      },
      "execution_count": null,
      "outputs": []
    },
    {
      "cell_type": "code",
      "source": [
        "# Consider example values for a,b\n",
        "a, b = 1.5, 2.5\n",
        "\n",
        "# Execute the computation\n",
        "e_out = func(a,b)\n",
        "print(e_out)"
      ],
      "metadata": {
        "id": "ijljBjY_XOH-"
      },
      "execution_count": null,
      "outputs": []
    },
    {
      "cell_type": "markdown",
      "source": [
        "1.3 Neural networks in **TensorFlow**"
      ],
      "metadata": {
        "id": "OWB9qyAVXV9g"
      }
    },
    {
      "cell_type": "markdown",
      "source": [
        "We can also define neural networks in TensorFlow. TensorFlow uses a high-level API called Keras that provides a powerful, intuitive framework for building and training deep learning models."
      ],
      "metadata": {
        "id": "QB5DzSA1XctC"
      }
    },
    {
      "cell_type": "markdown",
      "source": [
        "Let's first consider the example of a simple perceptron defined by just one dense layer: y=(sigma)*(Wx+B)\n",
        ", where\n",
        "\n",
        " W:-represents a matrix of weights,\n",
        "\n",
        " B:-is a bias,\n",
        "\n",
        " x:-is the input,\n",
        "\n",
        " sigma:-is the sigmoid activation function, and\n",
        "\n",
        " y:-is the output."
      ],
      "metadata": {
        "id": "t7h1hkWxXfP3"
      }
    },
    {
      "cell_type": "code",
      "source": [
        "# Defining a network Layer\n",
        "\n",
        "class OurDenseLayer(tf.keras.layers.Layer):\n",
        "  def __init__(self,n_output_nodes):\n",
        "    super(OurDenseLayer,self).__init__()\n",
        "    self.n_output_nodes=n_output_nodes\n",
        "\n",
        "  def build(self,input_shape):\n",
        "    d=int(input_shape[-1])\n",
        "    self.W=self.add_weight(name=\"weight\", shape=[d,self.n_output_nodes])\n",
        "    self.b=self.add_weight(name=\"bias\", shape=[1,self.n_output_nodes])\n",
        "\n",
        "  def call(self,x):\n",
        "    z=tf.linalg.matmul(x, self.W)\n",
        "    y=tf.sigmoid(z + self.b)\n",
        "    return y"
      ],
      "metadata": {
        "id": "2eAJPX7TXUA_"
      },
      "execution_count": null,
      "outputs": []
    },
    {
      "cell_type": "code",
      "source": [
        "# Since layer parameters are initialized randomly, we will set a random seed for reproducibility\n",
        "tf.keras.utils.set_random_seed(1)\n",
        "layer = OurDenseLayer(3)\n",
        "layer.build((1,2))\n",
        "x_input = tf.constant([[1,2.]], shape=(1,2))\n",
        "y = layer.call(x_input)\n",
        "\n",
        "# test the output!\n",
        "print(y.numpy())\n",
        "mdl.lab1.test_custom_dense_layer_output(y)"
      ],
      "metadata": {
        "id": "hv53NUU_Z-nj"
      },
      "execution_count": null,
      "outputs": []
    },
    {
      "cell_type": "markdown",
      "source": [
        "Conveniently, TensorFlow has defined a number of **Layers** that are commonly used in neural networks, for example a Dense. Now, instead of using a single Layer to define our simple neural network, we'll use the **Sequential** model from Keras and a single Dense layer to define our network. With the **Sequential** API, you can readily create neural networks by stacking together layers like building blocks."
      ],
      "metadata": {
        "id": "9_vF8f9Oah5N"
      }
    },
    {
      "cell_type": "code",
      "source": [
        "# Import relevant packages\n",
        "from tensorflow.keras import Sequential\n",
        "from tensorflow.keras.layers import Dense\n",
        "\n",
        "# Define the number of outputs\n",
        "n_output_nodes = 3\n",
        "\n",
        "# First define the model\n",
        "model = Sequential()\n",
        "\n",
        "'''TODO: Define a dense (fully connected) layer to compute z'''\n",
        "# Remember: dense layers are defined by the parameters W and b!\n",
        "# You can read more about the initialization of W and b in the TF documentation :)\n",
        "# https://www.tensorflow.org/api_docs/python/tf/keras/layers/Dense?version=stable\n",
        "dense_layer = Dense(n_output_nodes, activation='sigmoid')\n",
        "\n",
        "# Add the dense layer to the model\n",
        "model.add(dense_layer)"
      ],
      "metadata": {
        "id": "NMKcc_QCaRbM"
      },
      "execution_count": null,
      "outputs": []
    },
    {
      "cell_type": "code",
      "source": [],
      "metadata": {
        "id": "aTstGa63bN19"
      },
      "execution_count": null,
      "outputs": []
    },
    {
      "cell_type": "code",
      "metadata": {
        "id": "80d74561"
      },
      "source": [
        "# Create some sample input data (e.g., a batch of 2 inputs with 5 features each)\n",
        "# The number of features should match the input shape the dense layer expects.\n",
        "# Since we didn't specify an input shape in the Dense layer, Keras will infer it from the first input.\n",
        "# Let's assume an input shape of (batch_size, 2) based on the previous custom layer example.\n",
        "sample_input = tf.constant([[1., 2.], [3., 4.]], shape=(2, 2))\n",
        "\n",
        "# Pass the sample input through the model\n",
        "output_data = model.predict(sample_input)\n",
        "\n",
        "# Print the output\n",
        "print(\"Input data:\\n\", sample_input.numpy())\n",
        "print(\"\\nOutput data:\\n\", output_data)"
      ],
      "execution_count": null,
      "outputs": []
    },
    {
      "cell_type": "markdown",
      "source": [
        "**1.4 Automatic differentiation in TensorFlow**"
      ],
      "metadata": {
        "id": "zQzvrd6VbX1i"
      }
    },
    {
      "cell_type": "markdown",
      "source": [
        "Automatic differentiation is one of the most important parts of TensorFlow and is the backbone of training with backpropagation. We will use the TensorFlow GradientTape tf.GradientTape to trace operations for computing gradients later."
      ],
      "metadata": {
        "id": "ft3RWDaFbfIE"
      }
    },
    {
      "cell_type": "markdown",
      "source": [
        "When a forward pass is made through the network, all forward-pass operations get recorded to a \"tape\"; then, to compute the gradient, the tape is played backwards. By default, the tape is discarded after it is played backwards; this means that a particular **tf.GradientTape** can only compute one gradient, and subsequent calls throw a runtime error. However, we can compute multiple gradients over the same computation by creating a **persistent** gradient tape."
      ],
      "metadata": {
        "id": "y5QsHm3tbnRq"
      }
    },
    {
      "cell_type": "code",
      "source": [
        "# Gradient computation with GradientTape ###\n",
        "\n",
        "# y = x^2\n",
        "# Example: x = 3.0\n",
        "x = tf.Variable(3.0)\n",
        "\n",
        "# Initiate the gradient tape\n",
        "with tf.GradientTape() as tape:\n",
        "  # Define the function\n",
        "  y = x * x\n",
        "# Access the gradient -- derivative of y with respect to x\n",
        "dy_dx = tape.gradient(y, x)\n",
        "\n",
        "assert dy_dx.numpy() == 6.0"
      ],
      "metadata": {
        "id": "Z5WeWOfBbcdT"
      },
      "execution_count": null,
      "outputs": []
    },
    {
      "cell_type": "markdown",
      "source": [
        "In training neural networks, we use differentiation and stochastic gradient descent (SGD) to optimize a loss function. Now that we have a sense of how **GradientTape** can be used to compute and access derivatives, we will look at an example where we use automatic differentiation and SGD to find the minimum of L=(x-x_f)square\n",
        ". Here\n",
        " x_f:-is a variable for a desired value we are trying to optimize for;\n",
        "\n",
        " l:-represents a loss that we are trying to minimize.\n",
        "While we can clearly solve this problem analytically (x_min=x_f), considering how we can compute this using GradientTape sets us up nicely for future labs where we use gradient descent to optimize entire neural network losses."
      ],
      "metadata": {
        "id": "iIOp_aLlby_0"
      }
    },
    {
      "cell_type": "code",
      "source": [
        "# Function minimization with automatic differentiation and SGD ###\n",
        "\n",
        "# Initialize a random value for our initial x\n",
        "x = tf.Variable([tf.random.normal([1])])\n",
        "print(\"Initializing x={}\".format(x.numpy()))\n",
        "\n",
        "learning_rate = 1e-2 # learning rate for SGD\n",
        "history = []\n",
        "# Define the target value\n",
        "x_f = 3\n",
        "\n",
        "# We will run SGD for a number of iterations. At each iteration, we compute the loss,\n",
        "#   compute the derivative of the loss with respect to x, and perform the SGD update.\n",
        "for i in range(300):\n",
        "  with tf.GradientTape() as tape:\n",
        "    '''TODO: define the loss as described above'''\n",
        "    loss = (x-x_f)**2\n",
        "\n",
        "  # loss minimization using gradient tape\n",
        "  grad = tape.gradient(loss, x) # compute the derivative of the loss with respect to x\n",
        "  new_x = x - learning_rate*grad # sgd update\n",
        "  x.assign(new_x) # update the value of x\n",
        "  history.append(x.numpy()[0])\n",
        "\n",
        "# Plot the evolution of x as we optimize towards x_f!\n",
        "plt.plot(history)\n",
        "plt.plot([0, 500],[x_f,x_f])\n",
        "plt.legend(('Predicted', 'True'))\n",
        "plt.xlabel('Iteration')\n",
        "plt.ylabel('x value')\n",
        ""
      ],
      "metadata": {
        "id": "JsR0tCicbwSB"
      },
      "execution_count": null,
      "outputs": []
    },
    {
      "cell_type": "code",
      "source": [],
      "metadata": {
        "id": "4q5-hIAVcbGM"
      },
      "execution_count": null,
      "outputs": []
    }
  ],
  "metadata": {
    "accelerator": "GPU",
    "colab": {
      "gpuType": "T4",
      "provenance": []
    },
    "kernelspec": {
      "display_name": "Python 3",
      "name": "python3"
    },
    "language_info": {
      "name": "python"
    }
  },
  "nbformat": 4,
  "nbformat_minor": 0
}