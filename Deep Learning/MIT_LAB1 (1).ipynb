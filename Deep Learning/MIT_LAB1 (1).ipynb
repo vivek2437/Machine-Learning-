{
  "cells": [
    {
      "cell_type": "markdown",
      "metadata": {
        "id": "ENAIWT90trHx"
      },
      "source": [
        "PyTorch Introduction"
      ]
    },
    {
      "cell_type": "markdown",
      "metadata": {
        "id": "Df5iIVcWtrHz"
      },
      "source": [
        "**0.1 Install PyTorch**"
      ]
    },
    {
      "cell_type": "markdown",
      "metadata": {
        "id": "5eou5S90trHz"
      },
      "source": [
        "**PyTorch** is a popular deep learning library known for its flexibility and ease of use. Here we'll learn how computations are represented and how to define a simple neural network in PyTorch. For all the labs in Introduction to Deep Learning 2025, there will be a PyTorch version available."
      ]
    },
    {
      "cell_type": "markdown",
      "metadata": {
        "id": "zL2UGaWJtrH0"
      },
      "source": [
        "Let's install PyTorch and a couple of dependencies."
      ]
    },
    {
      "cell_type": "code",
      "execution_count": null,
      "metadata": {
        "id": "jN-gdiBMGSAp"
      },
      "outputs": [],
      "source": [
        "import torch\n",
        "import torch.nn as nn\n",
        "import numpy as np\n",
        "import matplotlib.pyplot as pyplot"
      ]
    },
    {
      "cell_type": "markdown",
      "metadata": {
        "id": "Ul8EllCFtrH1"
      },
      "source": [
        "**1.1 What is PyTorch?**"
      ]
    },
    {
      "cell_type": "markdown",
      "metadata": {
        "id": "nrIqY907trH1"
      },
      "source": [
        "PyTorch is a machine learning library, like TensorFlow. At its core, PyTorch provides an interface for creating and manipulating tensors, which are data structures that you can think of as multi-dimensional arrays. Tensors are represented as n-dimensional arrays of base datatypes such as a string or integer -- they provide a way to generalize vectors and matrices to higher dimensions. PyTorch provides the ability to perform computation on these tensors, define neural networks, and train them efficiently."
      ]
    },
    {
      "cell_type": "markdown",
      "metadata": {
        "id": "IwZ1u6-btrH1"
      },
      "source": [
        "The shape of a PyTorch tensor defines its number of dimensions and the size of each dimension. The ndim or dim of a PyTorch tensor provides the number of dimensions (n-dimensions) -- this is equivalent to the tensor's rank (as is used in TensorFlow), and you can also think of this as the tensor's order or degree."
      ]
    },
    {
      "cell_type": "markdown",
      "metadata": {
        "id": "T__fae-JtrH2"
      },
      "source": [
        "Let’s start by creating some tensors and inspecting their properties:"
      ]
    },
    {
      "cell_type": "code",
      "execution_count": null,
      "metadata": {
        "id": "F4vtqHtBGbTj"
      },
      "outputs": [],
      "source": [
        "intergers=torch.tensor(12345)\n",
        "decimal=torch.tensor(3.14159265359)\n",
        "\n",
        "print(f\"intergers: {intergers}-d Tensor: {intergers}\")\n",
        "print(f\"decimal: {decimal.ndim}-d Tensor: {decimal}\")"
      ]
    },
    {
      "cell_type": "markdown",
      "metadata": {
        "id": "j-9OAzjWtrH2"
      },
      "source": [
        "Vectors and lists can be used to create 1-d tensors:"
      ]
    },
    {
      "cell_type": "code",
      "execution_count": null,
      "metadata": {
        "id": "WX5k3bFzdKyH"
      },
      "outputs": [],
      "source": [
        "fibonacci=torch.tensor([1,1,2,3,5,8])\n",
        "count_to_100=torch.tensor(range(100))\n",
        "\n",
        "print(f\"Fibonacci is a {fibonacci.ndim}-d Tensor with shape: {fibonacci.shape}\")\n",
        "print(f\"count_to_100 is a {count_to_100.ndim}-d Tensor with shape: {count_to_100.shape}\")"
      ]
    },
    {
      "cell_type": "markdown",
      "metadata": {
        "id": "jrmSpQs-trH3"
      },
      "source": [
        "Next, let’s create 2-d (i.e., matrices) and higher-rank tensors. In image processing and computer vision, we will use 4-d Tensors with dimensions corresponding to batch size, number of color channels, image height, and image width."
      ]
    },
    {
      "cell_type": "code",
      "execution_count": null,
      "metadata": {
        "id": "_XURbmvMd652"
      },
      "outputs": [],
      "source": [
        "#Define The 2-D Tensor\n",
        "\n",
        "matrix=torch.tensor([[1,2,3,4]])\n",
        "\n",
        "assert isinstance(matrix,torch.Tensor),\"matrix is not a torch.Tensor\"\n",
        "assert matrix.ndim==2"
      ]
    },
    {
      "cell_type": "code",
      "execution_count": null,
      "metadata": {
        "id": "MbufeX4PebVN"
      },
      "outputs": [],
      "source": [
        "# Defining higher-order Tensors\n",
        "\n",
        "\n",
        "images=torch.rand(size=(10,3,256,256))\n",
        "\n",
        "assert isinstance(images,torch.Tensor),\"images must be a torch tensor object\"\n",
        "assert images.ndim==4,\"images must have 4 dimensions\"\n",
        "assert images.shape==(10,3,256,256),\"images is incorrect shape\"\n",
        "print(f\"images is a {images.ndim}-d Tensor with shape: {images.shape}\")"
      ]
    },
    {
      "cell_type": "markdown",
      "metadata": {
        "id": "MboK0JAytrH3"
      },
      "source": [
        "As you have seen, the shape of a tensor provides the number of elements in each tensor dimension. The shape is quite useful, and we'll use it often. You can also use slicing to access subtensors within a higher-rank tensor:"
      ]
    },
    {
      "cell_type": "code",
      "execution_count": null,
      "metadata": {
        "id": "XNDFVCtkgUJP"
      },
      "outputs": [],
      "source": [
        "row_vector=matrix[0,2]\n",
        "column_vector=matrix[:,1]\n",
        "scaler=matrix[0,1]\n",
        "\n",
        "print(f\"row_vector: {row_vector}\")\n",
        "print(f\"column_vector: {column_vector}\")\n",
        "print(f\"scaler: {scaler}\")"
      ]
    },
    {
      "cell_type": "markdown",
      "metadata": {
        "id": "ymAFz68PtrH4"
      },
      "source": [
        "**1.2 Computations on Tensors**\n"
      ]
    },
    {
      "cell_type": "markdown",
      "metadata": {
        "id": "9cA-Y1MvtrH4"
      },
      "source": [
        "A convenient way to think about and visualize computations in a machine learning framework like PyTorch is in terms of graphs. We can do the mathematical operations that act on these tensors in some order. Let's look at a simple example, and define this computation using PyTorch"
      ]
    },
    {
      "cell_type": "code",
      "execution_count": null,
      "metadata": {
        "id": "bD1huS6Rh3XN"
      },
      "outputs": [],
      "source": [
        "# Create the nodes and initialize values\n",
        "\n",
        "a=torch.tensor(15)\n",
        "b=torch.tensor(65)\n",
        "\n",
        "c1=torch.add(a,b)\n",
        "c2=a+b           # PyTorch overrides the \"+\" operation so that it is able to act on Tensors\n",
        "\n",
        "print(f\"c1: {c1}\")\n",
        "print(f\"c2: {c2}\")"
      ]
    },
    {
      "cell_type": "markdown",
      "metadata": {
        "id": "g-OUxGLdtrH4"
      },
      "source": [
        "Notice how we've created a computation graph consisting of PyTorch operations, and how the output is a tensor with value 80 -- we've just created a computation graph consisting of operations, and it's executed them and given us back the result.\n",
        "\n",
        "Now let's consider a slightly more complicated example:\n",
        "\n"
      ]
    },
    {
      "cell_type": "markdown",
      "metadata": {
        "id": "fRgcSVo5trH4"
      },
      "source": [
        "Here, we take two inputs, a, b, and compute an output e. Each node in the graph represents an operation that takes some input, does some computation, and passes its output to another node.\n",
        "\n",
        "Let's define a simple function in PyTorch to construct this computation function:"
      ]
    },
    {
      "cell_type": "code",
      "execution_count": null,
      "metadata": {
        "id": "MhbgkPm9lhIK"
      },
      "outputs": [],
      "source": [
        "# Defining Tensor computations ###\n",
        "\n",
        "# Construct a simple computation function\n",
        "\n",
        "def func(a,b):\n",
        "  c=a+b\n",
        "  d=b-1\n",
        "  e=c*d\n",
        "  return e"
      ]
    },
    {
      "cell_type": "markdown",
      "metadata": {
        "id": "orgs1hDptrH4"
      },
      "source": [
        "Now, we can call this function to execute the computation graph given some inputs a,b:"
      ]
    },
    {
      "cell_type": "code",
      "execution_count": null,
      "metadata": {
        "id": "rAPbeIgemBM1"
      },
      "outputs": [],
      "source": [
        "a,b=1.5,2.5\n",
        "e_out=func(a,b)\n",
        "\n",
        "print(f\"e_out: {e_out}\")"
      ]
    },
    {
      "cell_type": "markdown",
      "metadata": {
        "id": "kRLcdF9UtrH4"
      },
      "source": [
        "Notice how our output is a tensor with value defined by the output of the computation, and that the output has no shape as it is a single scalar value."
      ]
    },
    {
      "cell_type": "markdown",
      "metadata": {
        "id": "Q_WV3Mw7trH4"
      },
      "source": [
        "**1.3 Neural networks in PyTorch**"
      ]
    },
    {
      "cell_type": "markdown",
      "metadata": {
        "id": "wsO3BQErtrH4"
      },
      "source": [
        "We can also define neural networks in PyTorch. PyTorch uses torch.nn.Module, which serves as a base class for all neural network modules in PyTorch and thus provides a framework for building and training neural networks."
      ]
    },
    {
      "cell_type": "markdown",
      "metadata": {
        "id": "akFIuvn3trH5"
      },
      "source": [
        "\n",
        "Let's consider the example of a simple perceptron defined by just one dense (aka fully-connected or linear) layer: y=(sigma)(Wx+b),where\n",
        "W:- represents a matrix of weights,\n",
        "b:- is a bias,\n",
        "x:- is the input,\n",
        "sigma:-is the sigmoid activation function, and\n",
        "y:-is the output."
      ]
    },
    {
      "cell_type": "markdown",
      "metadata": {
        "id": "W4lNoDc0trH5"
      },
      "source": [
        "We will use **torch.nn.Module** to define layers -- the building blocks of neural networks. Layers implement common neural networks operations. In PyTorch, when we implement a layer, we subclass **nn.Module** and define the parameters of the layer as attributes of our new class. We also define and override a **function forward**, which will define the forward pass computation that is performed at every step. All classes subclassing **nn.Module** should override the **forward function**."
      ]
    },
    {
      "cell_type": "code",
      "execution_count": null,
      "metadata": {
        "id": "CWZbGWHWmNIL"
      },
      "outputs": [],
      "source": [
        "#define the dense layer\n",
        "\n",
        "class OurDenceLayer(torch.nn.Module):\n",
        "  def __init__(self,num_inputs,num_outputs):\n",
        "    super(OurDenceLayer,self).__init__()\n",
        "\n",
        "    #define the weight matrix W and bias B\n",
        "    #Notethat the parameter initialize is random!\n",
        "    self.W=torch.nn.Parameter(torch.randn(num_inputs,num_outputs))\n",
        "    self.B=torch.nn.Parameter(torch.randn(num_outputs))\n",
        "\n",
        "  def forward(self,x):\n",
        "\n",
        "    z=torch.matmul(x,self.W)+self.B\n",
        "\n",
        "    Y=torch.sigmoid(z)\n",
        "    return Y"
      ]
    },
    {
      "cell_type": "markdown",
      "metadata": {
        "id": "t1QBy9aotrH5"
      },
      "source": [
        "Now, let's test the output of our layer."
      ]
    },
    {
      "cell_type": "code",
      "execution_count": null,
      "metadata": {
        "id": "KwtAV2LioYtV"
      },
      "outputs": [],
      "source": [
        "# Define a layer and test the output!\n",
        "num_inputs=2\n",
        "num_outputs=20\n",
        "layer=OurDenceLayer(num_inputs,num_outputs)\n",
        "x_input=torch.tensor([[1,2.]])\n",
        "y=layer(x_input)\n",
        "\n",
        "print(f\"input shape:{x_input.shape}\")\n",
        "print(f\"output shape:{y.shape}\")\n",
        "print(f\"output result: {y}\")"
      ]
    },
    {
      "cell_type": "markdown",
      "metadata": {
        "id": "-zmwcPWUtrH5"
      },
      "source": [
        "Conveniently, PyTorch has defined a number of **nn.Modules** (or Layers) that are commonly used in neural networks, for example a **nn.Linear** or **nn.Sigmoid** module."
      ]
    },
    {
      "cell_type": "markdown",
      "metadata": {
        "id": "D5hrWTcJtrH5"
      },
      "source": [
        "Now, instead of using a single **Module** to define our simple neural network, we'll use the **nn.Sequential** module from PyTorch and a single **nn.Linear** layer to define our network. With the **Sequential** API, you can readily create neural networks by stacking together layers like building blocks."
      ]
    },
    {
      "cell_type": "code",
      "execution_count": null,
      "metadata": {
        "id": "jYxee5-SeovT"
      },
      "outputs": [],
      "source": [
        "# Defining a neural network using the PyTorch Sequential API #\n",
        "\n",
        "n_input_nodes=2\n",
        "n_output_nodes=4\n",
        "\n",
        "#define the model\n",
        "\n",
        "#define the dense layer\n",
        "\n",
        "class OurDenceLayer(torch.nn.Module):\n",
        "  def __init__(self,num_inputs,num_outputs):\n",
        "    super(OurDenceLayer,self).__init__()\n",
        "\n",
        "    #define the weight matrix W and bias B\n",
        "\n",
        "    self.W=torch.nn.Parameter(torch.randn(num_inputs,num_outputs))\n",
        "    self.B=torch.nn.Parameter(torch.randn(num_outputs))\n",
        "\n",
        "  def forward(self,x):\n",
        "\n",
        "    z=torch.matmul(x,self.W)+self.B\n",
        "\n",
        "    Y=torch.sigmoid(z)\n",
        "    return Y\n",
        "\n",
        "\n",
        "model=nn.Sequential(OurDenceLayer(n_input_nodes,n_output_nodes))"
      ]
    },
    {
      "cell_type": "markdown",
      "metadata": {
        "id": "qynpVTpStrH6"
      },
      "source": [
        "We've defined our model using the Sequential API. Now, we can test it out using an example input:"
      ]
    },
    {
      "cell_type": "code",
      "execution_count": null,
      "metadata": {
        "id": "3y6SiGC4fPN6"
      },
      "outputs": [],
      "source": [
        "# Test the model with example input\n",
        "x_input=torch.Tensor([[1,3.]])\n",
        "model_output=model(x_input)\n",
        "\n",
        "print(f\"input shape: {x_input.shape}\")\n",
        "print(f\"output shape: {model_output.shape}\")\n",
        "print(f\"output: {model_output}\")"
      ]
    },
    {
      "cell_type": "markdown",
      "metadata": {
        "id": "4234ZRKDtrH6"
      },
      "source": [
        "With PyTorch, we can create more flexible models by subclassing **nn.Module.** The **nn.Module** class allows us to group layers together flexibly to define new architectures."
      ]
    },
    {
      "cell_type": "code",
      "execution_count": null,
      "metadata": {
        "id": "K-lKY-yofh5X"
      },
      "outputs": [],
      "source": [
        "# Defining a model using subclassing #\n",
        "\n",
        "class LinearWithSigmoidActivation(nn.Module):\n",
        "  def __init__(self,num_inputs,num_outputs):\n",
        "    super(LinearWithSigmoidActivation,self).__init__()\n",
        "    self.linear = nn.Linear(num_inputs, num_outputs)\n",
        "    self.activation = nn.Sigmoid()\n",
        "\n",
        "  def forward(self, inputs):\n",
        "    linear_output = self.linear(inputs)\n",
        "    output = self.activation(linear_output)\n",
        "    return output"
      ]
    },
    {
      "cell_type": "markdown",
      "metadata": {
        "id": "P8ItbuZUtrIE"
      },
      "source": [
        "Let's test out our new model, using an example input, setting n_input_nodes=2 and n_output_nodes=3 as before."
      ]
    },
    {
      "cell_type": "code",
      "execution_count": null,
      "metadata": {
        "id": "1ORjVknIgYw1"
      },
      "outputs": [],
      "source": [
        "n_input_nodes=2\n",
        "n_output_nodes=4\n",
        "\n",
        "model=LinearWithSigmoidActivation(n_input_nodes,n_output_nodes)\n",
        "x_input=torch.tensor([[1,3.]])\n",
        "y=model(x_input)\n",
        "\n",
        "print(f\"input shape: {x_input.shape}\")\n",
        "print(f\"output shape: {y.shape}\")\n",
        "print(f\"output: {y}\")"
      ]
    },
    {
      "cell_type": "markdown",
      "metadata": {
        "id": "iajhpr16trIE"
      },
      "source": [
        "Importantly, **nn.Module** affords us a lot of flexibility to define custom models. For example, we can use boolean arguments in the **forward** function to specify different network behaviors, for example different behaviors during training and inference. Let's suppose under some instances we want our network to simply output the input, without any perturbation. We define a boolean argument **isidentity** to control this behavior:"
      ]
    },
    {
      "cell_type": "code",
      "execution_count": null,
      "metadata": {
        "id": "UBMy2muLhdht"
      },
      "outputs": [],
      "source": [
        "class LinearButSometimesIdentity(nn.Module):\n",
        "    def __init__(self,num_inputs,num_outputs):\n",
        "      super(LinearButSometimesIdentity,self).__init__()\n",
        "      self.linear=nn.Linear(num_inputs,num_outputs)\n",
        "\n",
        "    def forward(self,inputs,isidentity=False):\n",
        "      linear_output=self.linear(inputs)\n",
        "      if isidentity:\n",
        "        return inputs\n",
        "      else:\n",
        "        return linear_output"
      ]
    },
    {
      "cell_type": "markdown",
      "metadata": {
        "id": "cxlCL8ZltrIE"
      },
      "source": [
        "\n",
        "Let's test this behavior:"
      ]
    },
    {
      "cell_type": "code",
      "execution_count": null,
      "metadata": {
        "id": "bweG_XGljTBy"
      },
      "outputs": [],
      "source": [
        "# Test the IdentityModel\n",
        "\n",
        "model=LinearButSometimesIdentity(num_inputs=2,num_outputs=4)\n",
        "x_input=torch.tensor([[1,3.]])\n",
        "\n",
        "out_with_linear=model(x_input)\n",
        "out_with_identity=model(x_input,isidentity=True)\n",
        "\n",
        "print(f\"input: {x_input}\")\n",
        "print(\"output with linear: {}; output with identity: {}\".format(out_with_linear,out_with_identity))"
      ]
    },
    {
      "cell_type": "markdown",
      "metadata": {
        "id": "8aM7d5fdtrIE"
      },
      "source": [
        "Now that we have learned how to define layers and models in PyTorch using both the Sequential API and subclassing nn.Module, we're ready to turn our attention to how to actually implement network training with backpropagation."
      ]
    },
    {
      "cell_type": "markdown",
      "metadata": {
        "id": "g3He9Ag4trIF"
      },
      "source": [
        "**1.4 Automatic Differentiation in PyTorch**"
      ]
    },
    {
      "cell_type": "markdown",
      "metadata": {
        "id": "RyoPD5fAtrIF"
      },
      "source": [
        "In PyTorch, **torch.autograd** is used for **automatic differentiation**, which is critical for training deep learning models with **backpropagation**."
      ]
    },
    {
      "cell_type": "markdown",
      "metadata": {
        "id": "ySE15TVXtrIF"
      },
      "source": [
        "We will use the PyTorch **.backward()** method to trace operations for computing gradients. On a tensor, the **requires_grad** attribute controls whether autograd should record operations on that tensor. When a forward pass is made through the network, PyTorch builds a computational graph dynamically; then, to compute the gradient, the **backward()** method is called to perform backpropagation."
      ]
    },
    {
      "cell_type": "markdown",
      "metadata": {
        "id": "GPSbOj_0trIF"
      },
      "source": [
        "Let's compute the gradient of y=x*x+x"
      ]
    },
    {
      "cell_type": "code",
      "execution_count": null,
      "metadata": {
        "id": "kBADQ5DnkI1Y"
      },
      "outputs": [],
      "source": [
        "x=torch.tensor(5.0,requires_grad=True)\n",
        "y=x**2+x\n",
        "\n",
        "y.backward()\n",
        "\n",
        "dy_dx=x.grad\n",
        "\n",
        "print(\"dy_dx of y=x**2+1 at x=5.0 is: \",dy_dx)"
      ]
    },
    {
      "cell_type": "markdown",
      "metadata": {
        "id": "QPfm5yYatrIF"
      },
      "source": [
        "In training neural networks, we use differentiation and stochastic gradient descent (SGD) to optimize a loss function. Now that we have a sense of how PyTorch's autograd can be used to compute and access derivatives, we will look at an example where we use automatic differentiation and SGD to find the minimum of  L=(x-x_f)*square\n",
        ". Here\n",
        "\n",
        " x_f:-is a variable for a desired value we are trying to optimize for;\n",
        "\n",
        "\n",
        "L:-represents a loss that we are trying to minimize. While we can clearly solve this problem analytically (x_min=x_f), considering how we can compute this using PyTorch's autograd sets us up nicely for future labs where we use gradient descent to optimize entire neural network losses."
      ]
    },
    {
      "cell_type": "code",
      "execution_count": null,
      "metadata": {
        "colab": {
          "background_save": true
        },
        "id": "z5YjrH8ErXS3"
      },
      "outputs": [],
      "source": [
        "# Function minimization with autograd and gradient descent #\n",
        "\n",
        "# Initialize a random value for our intial x\n",
        "\n",
        "x=torch.randn(1)\n",
        "\n",
        "print(f\"Initializingx={x.item()}\")\n",
        "\n",
        "learning_rate=1e-2  #Learning Rate\n",
        "history=[]\n",
        "x_f=4   #Target Value\n",
        "\n",
        "for i in range(500):\n",
        "  x=torch.tensor([x],requires_grad=True)\n",
        "\n",
        "  #Compute the loss as the square of the difference between x and x_f\n",
        "  loss=(x-x_f)**2\n",
        "\n",
        "  #Backpropagate through the loss to compute gradients\n",
        "  loss.backward()\n",
        "\n",
        "  # Update x with gradient descent\n",
        "  x=x.item()-learning_rate*x.grad\n",
        "\n",
        "  history.append(x.item())\n",
        "\n",
        "## Plot the evolution of x as we optimize toward x_f!\n",
        "  plt.plot(history)\n",
        "  plt.plot([0,500],[x_f,x_f])\n",
        "  plt.legend(('Predicited','True'))\n",
        "  plt.xlabel('Iteration')\n",
        "  plt.ylabel('X Value')\n",
        "  plt.show()"
      ]
    },
    {
      "cell_type": "code",
      "execution_count": null,
      "metadata": {
        "id": "eSOfhFv8vWn0"
      },
      "outputs": [],
      "source": []
    }
  ],
  "metadata": {
    "accelerator": "GPU",
    "colab": {
      "gpuType": "T4",
      "provenance": []
    },
    "kernelspec": {
      "display_name": "Python 3",
      "name": "python3"
    },
    "language_info": {
      "name": "python"
    }
  },
  "nbformat": 4,
  "nbformat_minor": 0
}