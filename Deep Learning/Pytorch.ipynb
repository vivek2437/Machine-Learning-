<content of Pytorch.ipynb>{
 "cells": [
  {
   "cell_type": "markdown",
   "metadata": {
    "id": "view-in-github",
    "colab_type": "text"
   },
   "source": [
    "<a href=\"https://colab.research.google.com/github/vivek2437/Machine-Learning-/blob/main/Pytorch.ipynb\" target=\"_parent\"><img src=\"https://colab.research.google.com/assets/colab-badge.svg\" alt=\"Open In Colab\"/></a>"
   ]
  },
  {
   "cell_type": "markdown",
   "metadata": {
    "id": "ENAIWT90trHx"
   },
   "source": [
    "PyTorch Introduction"
   ]
  },
  {
   "cell_type": "markdown",
   "metadata": {
    "id": "Df5iIVcWtrHz"
   },
   "source": [
    "**0.1 Install PyTorch**"
   ]
  },
  {
   "cell_type": "markdown",
   "metadata": {
    "id": "5eou5S90trHz"
   },
   "source": [
    "**PyTorch** is a popular deep learning library known for its"
   ]
  },
  {
   "cell_type": "markdown",
   "metadata": {
    "id": "zL2UGaWJtrH0"
   },
   "source": [
    "Let's install PyTorch and a couple of dependencies."
   ]
  },
  {
   "cell_type": "code",
   "execution_count": null,
   "metadata": {
    "id": "jN-gdiBMGSAp"
   },
   "outputs": [],
   "source": [
    "import torch\n",
    "import torch.nn as nn\n",
    "import numpy as np\n",
    "import matplotlib.pyplot as pyplot"
   ]
  },
  {
   "cell_type": "markdown",
   "metadata": {
    "id": "Ul8EllCFtrH1"
   },
   "source": [
    "**1.1 What is PyTorch?**"
   ]
  },
  {
   "cell_type": "markdown",
   "metadata": {
    "id": "nrIqY907trH1"
   },
   "source": [
    "PyTorch is a machine learning library, like TensorFlow. At its"
   ]
  },
  {
   "cell_type": "markdown",
   "metadata": {
    "id": "IwZ1u6-btrH1"
   },
   "source": [
    "The shape of a PyTorch tensor defines its number of"
   ]
  },
  {
   "cell_type": "markdown",
   "metadata": {
    "id": "T__fae-JtrH2"
   },
   "source": [
    "Let’s start by creating some"
   ]
  }
 ]
}
