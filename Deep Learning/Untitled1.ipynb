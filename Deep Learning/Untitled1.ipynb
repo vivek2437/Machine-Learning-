{
 "cells": [
  {
   "cell_type": "code",
   "execution_count": 3,
   "id": "ce090f83-590d-40e1-8bfa-cda495d7154b",
   "metadata": {},
   "outputs": [
    {
     "name": "stdout",
     "output_type": "stream",
     "text": [
      "Epoch 1/20\n"
     ]
    },
    {
     "name": "stderr",
     "output_type": "stream",
     "text": [
      "E:\\anaconda\\Lib\\site-packages\\keras\\src\\layers\\convolutional\\base_conv.py:113: UserWarning: Do not pass an `input_shape`/`input_dim` argument to a layer. When using Sequential models, prefer using an `Input(shape)` object as the first layer in the model instead.\n",
      "  super().__init__(activity_regularizer=activity_regularizer, **kwargs)\n"
     ]
    },
    {
     "name": "stdout",
     "output_type": "stream",
     "text": [
      "\u001b[1m1050/1050\u001b[0m \u001b[32m━━━━━━━━━━━━━━━━━━━━\u001b[0m\u001b[37m\u001b[0m \u001b[1m9s\u001b[0m 7ms/step - accuracy: 0.9121 - loss: 0.2814 - val_accuracy: 0.9793 - val_loss: 0.0667\n",
      "Epoch 2/20\n",
      "\u001b[1m1050/1050\u001b[0m \u001b[32m━━━━━━━━━━━━━━━━━━━━\u001b[0m\u001b[37m\u001b[0m \u001b[1m7s\u001b[0m 7ms/step - accuracy: 0.9716 - loss: 0.0932 - val_accuracy: 0.9830 - val_loss: 0.0491\n",
      "Epoch 3/20\n",
      "\u001b[1m1050/1050\u001b[0m \u001b[32m━━━━━━━━━━━━━━━━━━━━\u001b[0m\u001b[37m\u001b[0m \u001b[1m6s\u001b[0m 6ms/step - accuracy: 0.9797 - loss: 0.0691 - val_accuracy: 0.9887 - val_loss: 0.0377\n",
      "Epoch 4/20\n",
      "\u001b[1m1050/1050\u001b[0m \u001b[32m━━━━━━━━━━━━━━━━━━━━\u001b[0m\u001b[37m\u001b[0m \u001b[1m6s\u001b[0m 6ms/step - accuracy: 0.9829 - loss: 0.0539 - val_accuracy: 0.9879 - val_loss: 0.0383\n",
      "Epoch 5/20\n",
      "\u001b[1m1050/1050\u001b[0m \u001b[32m━━━━━━━━━━━━━━━━━━━━\u001b[0m\u001b[37m\u001b[0m \u001b[1m6s\u001b[0m 5ms/step - accuracy: 0.9852 - loss: 0.0468 - val_accuracy: 0.9882 - val_loss: 0.0339\n",
      "Epoch 6/20\n",
      "\u001b[1m1050/1050\u001b[0m \u001b[32m━━━━━━━━━━━━━━━━━━━━\u001b[0m\u001b[37m\u001b[0m \u001b[1m6s\u001b[0m 5ms/step - accuracy: 0.9873 - loss: 0.0416 - val_accuracy: 0.9899 - val_loss: 0.0310\n",
      "Epoch 7/20\n",
      "\u001b[1m1050/1050\u001b[0m \u001b[32m━━━━━━━━━━━━━━━━━━━━\u001b[0m\u001b[37m\u001b[0m \u001b[1m6s\u001b[0m 5ms/step - accuracy: 0.9884 - loss: 0.0348 - val_accuracy: 0.9895 - val_loss: 0.0320\n",
      "Epoch 8/20\n",
      "\u001b[1m1050/1050\u001b[0m \u001b[32m━━━━━━━━━━━━━━━━━━━━\u001b[0m\u001b[37m\u001b[0m \u001b[1m6s\u001b[0m 5ms/step - accuracy: 0.9897 - loss: 0.0324 - val_accuracy: 0.9919 - val_loss: 0.0288\n",
      "Epoch 9/20\n",
      "\u001b[1m1050/1050\u001b[0m \u001b[32m━━━━━━━━━━━━━━━━━━━━\u001b[0m\u001b[37m\u001b[0m \u001b[1m6s\u001b[0m 6ms/step - accuracy: 0.9918 - loss: 0.0263 - val_accuracy: 0.9911 - val_loss: 0.0314\n",
      "Epoch 10/20\n",
      "\u001b[1m1050/1050\u001b[0m \u001b[32m━━━━━━━━━━━━━━━━━━━━\u001b[0m\u001b[37m\u001b[0m \u001b[1m6s\u001b[0m 6ms/step - accuracy: 0.9916 - loss: 0.0263 - val_accuracy: 0.9919 - val_loss: 0.0302\n",
      "Epoch 11/20\n",
      "\u001b[1m1050/1050\u001b[0m \u001b[32m━━━━━━━━━━━━━━━━━━━━\u001b[0m\u001b[37m\u001b[0m \u001b[1m6s\u001b[0m 5ms/step - accuracy: 0.9937 - loss: 0.0209 - val_accuracy: 0.9889 - val_loss: 0.0408\n",
      "Epoch 12/20\n",
      "\u001b[1m1050/1050\u001b[0m \u001b[32m━━━━━━━━━━━━━━━━━━━━\u001b[0m\u001b[37m\u001b[0m \u001b[1m6s\u001b[0m 5ms/step - accuracy: 0.9932 - loss: 0.0210 - val_accuracy: 0.9904 - val_loss: 0.0330\n",
      "Epoch 13/20\n",
      "\u001b[1m1050/1050\u001b[0m \u001b[32m━━━━━━━━━━━━━━━━━━━━\u001b[0m\u001b[37m\u001b[0m \u001b[1m6s\u001b[0m 6ms/step - accuracy: 0.9940 - loss: 0.0186 - val_accuracy: 0.9908 - val_loss: 0.0305\n",
      "Epoch 14/20\n",
      "\u001b[1m1050/1050\u001b[0m \u001b[32m━━━━━━━━━━━━━━━━━━━━\u001b[0m\u001b[37m\u001b[0m \u001b[1m6s\u001b[0m 6ms/step - accuracy: 0.9936 - loss: 0.0188 - val_accuracy: 0.9906 - val_loss: 0.0305\n",
      "Epoch 15/20\n",
      "\u001b[1m1050/1050\u001b[0m \u001b[32m━━━━━━━━━━━━━━━━━━━━\u001b[0m\u001b[37m\u001b[0m \u001b[1m6s\u001b[0m 6ms/step - accuracy: 0.9954 - loss: 0.0147 - val_accuracy: 0.9901 - val_loss: 0.0380\n",
      "Epoch 16/20\n",
      "\u001b[1m1050/1050\u001b[0m \u001b[32m━━━━━━━━━━━━━━━━━━━━\u001b[0m\u001b[37m\u001b[0m \u001b[1m6s\u001b[0m 6ms/step - accuracy: 0.9949 - loss: 0.0140 - val_accuracy: 0.9907 - val_loss: 0.0340\n",
      "Epoch 17/20\n",
      "\u001b[1m1050/1050\u001b[0m \u001b[32m━━━━━━━━━━━━━━━━━━━━\u001b[0m\u001b[37m\u001b[0m \u001b[1m6s\u001b[0m 6ms/step - accuracy: 0.9947 - loss: 0.0159 - val_accuracy: 0.9924 - val_loss: 0.0265\n",
      "Epoch 18/20\n",
      "\u001b[1m1050/1050\u001b[0m \u001b[32m━━━━━━━━━━━━━━━━━━━━\u001b[0m\u001b[37m\u001b[0m \u001b[1m7s\u001b[0m 6ms/step - accuracy: 0.9955 - loss: 0.0139 - val_accuracy: 0.9899 - val_loss: 0.0390\n",
      "Epoch 19/20\n",
      "\u001b[1m1050/1050\u001b[0m \u001b[32m━━━━━━━━━━━━━━━━━━━━\u001b[0m\u001b[37m\u001b[0m \u001b[1m7s\u001b[0m 6ms/step - accuracy: 0.9953 - loss: 0.0142 - val_accuracy: 0.9913 - val_loss: 0.0382\n",
      "Epoch 20/20\n",
      "\u001b[1m1050/1050\u001b[0m \u001b[32m━━━━━━━━━━━━━━━━━━━━\u001b[0m\u001b[37m\u001b[0m \u001b[1m7s\u001b[0m 6ms/step - accuracy: 0.9960 - loss: 0.0133 - val_accuracy: 0.9921 - val_loss: 0.0327\n"
     ]
    }
   ],
   "source": [
    "import numpy as np\n",
    "import pandas as pd\n",
    "from tensorflow.keras.models import Sequential\n",
    "from tensorflow.keras.layers import Conv2D, MaxPooling2D, Flatten, Dense, Dropout\n",
    "from tensorflow.keras.utils import to_categorical\n",
    "from sklearn.model_selection import train_test_split\n",
    "\n",
    "# Load data\n",
    "train = pd.read_csv('Downloads/digit-recognizer/train.csv')\n",
    "test = pd.read_csv('Downloads/digit-recognizer/test.csv')\n",
    "\n",
    "# Split train data into features and labels\n",
    "X = train.drop(\"label\", axis=1).values\n",
    "y = train[\"label\"].values\n",
    "\n",
    "# Normalize features\n",
    "X = X.astype('float32') / 255.0\n",
    "X_test_real = test.values.astype('float32') / 255.0  # test set for submission\n",
    "\n",
    "# Reshape for CNN\n",
    "X = X.reshape(-1, 28, 28, 1)\n",
    "X_test_real = X_test_real.reshape(-1, 28, 28, 1)\n",
    "\n",
    "# One-hot encode labels\n",
    "y_cat = to_categorical(y, 10)\n",
    "\n",
    "# Split training data into train/validation sets\n",
    "X_train_img, X_val_img, y_train_cat, y_val_cat = train_test_split(\n",
    "    X, y_cat, test_size=0.2, random_state=42\n",
    ")\n",
    "\n",
    "# Build CNN\n",
    "cnn_model = Sequential([\n",
    "    Conv2D(32, kernel_size=(3,3), activation='relu', input_shape=(28,28,1)),\n",
    "    MaxPooling2D(pool_size=(2,2)),\n",
    "    Conv2D(64, kernel_size=(3,3), activation='relu'),\n",
    "    MaxPooling2D(pool_size=(2,2)),\n",
    "    Flatten(),\n",
    "    Dense(128, activation='relu'),\n",
    "    Dropout(0.5),\n",
    "    Dense(10, activation='softmax')\n",
    "])\n",
    "\n",
    "# Compile model\n",
    "cnn_model.compile(optimizer='adam', loss='categorical_crossentropy', metrics=['accuracy'])\n",
    "\n",
    "# Train model\n",
    "history_cnn = cnn_model.fit(\n",
    "    X_train_img, y_train_cat,\n",
    "    epochs=20,\n",
    "    batch_size=32,\n",
    "    validation_data=(X_val_img, y_val_cat),\n",
    "    verbose=1\n",
    ")\n"
   ]
  },
  {
   "cell_type": "code",
   "execution_count": 8,
   "id": "1a18e0e8-a14e-4b57-ad84-f7ec95d22a3c",
   "metadata": {},
   "outputs": [],
   "source": [
    "acc_cnn=cnn_model.evaluate(X_val_img,y_val_cat,verbose=0)[1]"
   ]
  },
  {
   "cell_type": "code",
   "execution_count": 9,
   "id": "875a9811-d337-4ef9-bd38-38a745f2aef1",
   "metadata": {},
   "outputs": [
    {
     "data": {
      "text/plain": [
       "0.9921428561210632"
      ]
     },
     "execution_count": 9,
     "metadata": {},
     "output_type": "execute_result"
    }
   ],
   "source": [
    "acc_cnn"
   ]
  },
  {
   "cell_type": "code",
   "execution_count": 13,
   "id": "39ce7aef-8592-4705-899f-cc5370536ead",
   "metadata": {},
   "outputs": [
    {
     "name": "stdout",
     "output_type": "stream",
     "text": [
      "\u001b[1m875/875\u001b[0m \u001b[32m━━━━━━━━━━━━━━━━━━━━\u001b[0m\u001b[37m\u001b[0m \u001b[1m2s\u001b[0m 2ms/step\n",
      "Submission file created: submission.csv\n"
     ]
    }
   ],
   "source": [
    "# 1️⃣ Predict probabilities for each class\n",
    "pred_probs = cnn_model.predict(X_test_real)\n",
    "\n",
    "# 2️⃣ Convert probabilities to class labels\n",
    "pred_labels = np.argmax(pred_probs, axis=1)\n",
    "\n",
    "# 3️⃣ Create submission DataFrame\n",
    "submission = pd.DataFrame({\n",
    "    \"ImageId\": np.arange(1, len(pred_labels) + 1),\n",
    "    \"Label\": pred_labels\n",
    "})\n",
    "\n",
    "# 4️⃣ Save to CSV\n",
    "submission.to_csv(\"submission.csv\", index=False)\n",
    "\n",
    "print(\"Submission file created: submission.csv\")"
   ]
  },
  {
   "cell_type": "code",
   "execution_count": null,
   "id": "e1003471-0f78-49f5-b5f8-f6f5d7093ec5",
   "metadata": {},
   "outputs": [],
   "source": []
  }
 ],
 "metadata": {
  "kernelspec": {
   "display_name": "Python 3 (ipykernel)",
   "language": "python",
   "name": "python3"
  },
  "language_info": {
   "codemirror_mode": {
    "name": "ipython",
    "version": 3
   },
   "file_extension": ".py",
   "mimetype": "text/x-python",
   "name": "python",
   "nbconvert_exporter": "python",
   "pygments_lexer": "ipython3",
   "version": "3.12.7"
  }
 },
 "nbformat": 4,
 "nbformat_minor": 5
}
