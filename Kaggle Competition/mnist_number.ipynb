{
 "cells": [
  {
   "cell_type": "code",
   "execution_count": null,
   "id": "f745345d-0f56-4ed5-9884-52288f585c5d",
   "metadata": {},
   "outputs": [],
   "source": [
    "import pandas as pd\n",
    "import numpy as np\n",
    "import matplotlib.pyplot as plt\n",
    "import tensorflow as tf\n",
    "from sklearn.model_selection import train_test_split"
   ]
  },
  {
   "cell_type": "markdown",
   "id": "620bf4f6-4069-4647-abeb-be3039392d6b",
   "metadata": {},
   "source": [
    "**1. Load data**"
   ]
  },
  {
   "cell_type": "code",
   "execution_count": 17,
   "id": "147677b8-88cc-41be-b996-c34a35ce5375",
   "metadata": {},
   "outputs": [],
   "source": [
    "mnist_number_train = pd.read_csv('train.csv')\n",
    "mnist_number_test = pd.read_csv('test.csv')"
   ]
  },
  {
   "cell_type": "markdown",
   "id": "0151683e-3c57-4b26-a81b-1bfa0636ef4a",
   "metadata": {},
   "source": [
    "**2. Split features and labels**"
   ]
  },
  {
   "cell_type": "code",
   "execution_count": 18,
   "id": "7adabb2e-7848-4276-bd2f-99850c262e02",
   "metadata": {},
   "outputs": [],
   "source": [
    "train_labels = mnist_number_train.iloc[:, 0].values\n",
    "train_images = mnist_number_train.iloc[:, 1:].values\n",
    "test_images = mnist_number_test.values  "
   ]
  },
  {
   "cell_type": "markdown",
   "id": "7e8b8d0c-612e-4639-8295-a0e95b0015e7",
   "metadata": {},
   "source": [
    "**3.Sample Image Visualization**"
   ]
  },
  {
   "cell_type": "code",
   "execution_count": 12,
   "id": "d7e9cf67-2a79-4669-811f-3200415089b5",
   "metadata": {},
   "outputs": [
    {
     "data": {
      "image/png": "[encoded data removed]",
      "text/plain": [
       "<Figure size 640x480 with 2 Axes>"
      ]
     },
     "metadata": {},
     "output_type": "display_data"
    }
   ],
   "source": [
    "plt.figure()\n",
    "plt.imshow(train_images[0])\n",
    "plt.colorbar()\n",
    "plt.grid(False)\n",
    "plt.show()"
   ]
  },
  {
   "cell_type": "markdown",
   "id": "bafe4aa5-a77a-4a23-9a43-7e4c4a31a3c3",
   "metadata": {},
   "source": [
    "**3.1 Plot first 10 images with their labels**"
   ]
  },
  {
   "cell_type": "code",
   "execution_count": 13,
   "id": "ecd98143-ee7e-48d7-98df-f5aea5ca501a",
   "metadata": {},
   "outputs": [],
   "source": [
    "class_names = ['0', '1', '2', '3', '4', '5', '6', '7', '8', '9']"
   ]
  },
  {
   "cell_type": "code",
   "execution_count": 15,
   "id": "1c50ff8f-c38f-4764-adc0-8e2c7ae0f00c",
   "metadata": {},
   "outputs": [
    {
     "data": {
      "image/png": "[encoded data removed]",
      "text/plain": [
       "<Figure size 1000x1000 with 10 Axes>"
      ]
     },
     "metadata": {},
     "output_type": "display_data"
    }
   ],
   "source": [
    "plt.figure(figsize=(10,10))\n",
    "for i in range(10):\n",
    "    plt.subplot(5,5,i+1)\n",
    "    plt.xticks([])\n",
    "    plt.yticks([])\n",
    "    plt.grid(False)\n",
    "    plt.imshow(train_images[i], cmap=plt.cm.binary)\n",
    "    plt.xlabel(class_names[train_labels[i]])\n",
    "plt.show()"
   ]
  },
  {
   "cell_type": "markdown",
   "id": "9f7c17f0-22fe-42e3-8f77-3d70efa2ef9a",
   "metadata": {},
   "source": [
    "**4. Reshape into 28x28 grayscale images**"
   ]
  },
  {
   "cell_type": "code",
   "execution_count": null,
   "id": "e5cdb416-d2be-4958-bdac-6eccacaa5fd9",
   "metadata": {},
   "outputs": [],
   "source": [
    "train_images = train_images.reshape(-1, 28, 28, 1)\n",
    "test_images = test_images.reshape(-1, 28, 28, 1)"
   ]
  },
  {
   "cell_type": "markdown",
   "id": "89bd7417-e5d5-46bf-84be-cd2c8f13f76e",
   "metadata": {},
   "source": [
    "**5.Normalize pixel values**"
   ]
  },
  {
   "cell_type": "code",
   "execution_count": 19,
   "id": "22760903-b161-43b4-b4ba-ab1164c43d6b",
   "metadata": {},
   "outputs": [],
   "source": [
    "train_images = train_images / 255.0\n",
    "test_images = test_images / 255.0"
   ]
  },
  {
   "cell_type": "markdown",
   "id": "3c74486c-47ce-427a-953d-069308c7d490",
   "metadata": {},
   "source": [
    "**6.Split training data for validation**"
   ]
  },
  {
   "cell_type": "code",
   "execution_count": 20,
   "id": "d642b19b-aea8-4306-b4e5-278edfd63b7e",
   "metadata": {},
   "outputs": [],
   "source": [
    "X_train, X_val, y_train, y_val = train_test_split(\n",
    "    train_images, train_labels, test_size=0.1, random_state=42\n",
    ")"
   ]
  },
  {
   "cell_type": "markdown",
   "id": "c43594f8-5ef9-4d74-a7de-3454aaac421e",
   "metadata": {},
   "source": [
    "**7.Build a simple neural network**"
   ]
  },
  {
   "cell_type": "code",
   "execution_count": 23,
   "id": "e80f0d96-ff26-465e-98db-e8d1ef857c2d",
   "metadata": {},
   "outputs": [],
   "source": [
    "model = tf.keras.Sequential([\n",
    "    tf.keras.layers.Flatten(input_shape=(28,28)),\n",
    "    tf.keras.layers.Dense(128, activation='relu'),\n",
    "    tf.keras.layers.Dense(10)   # 10 classes for digits 0–9\n",
    "])"
   ]
  },
  {
   "cell_type": "markdown",
   "id": "0d5e7b87-7f2d-4979-bb52-1bd563f61148",
   "metadata": {},
   "source": [
    "**8.Compile the model**"
   ]
  },
  {
   "cell_type": "code",
   "execution_count": 24,
   "id": "41c7f856-404d-4607-a764-99d929ce94a9",
   "metadata": {},
   "outputs": [],
   "source": [
    "model.compile(\n",
    "    optimizer='adam',\n",
    "    loss=tf.keras.losses.SparseCategoricalCrossentropy(from_logits=True),\n",
    "    metrics=['accuracy']\n",
    ")"
   ]
  },
  {
   "cell_type": "markdown",
   "id": "7f300473-b3db-4636-8776-41578f20113f",
   "metadata": {},
   "source": [
    "**9.Train the model with validation**"
   ]
  },
  {
   "cell_type": "code",
   "execution_count": 25,
   "id": "be8722b6-db6e-4ea9-aae8-7057dd907db5",
   "metadata": {},
   "outputs": [
    {
     "name": "stdout",
     "output_type": "stream",
     "text": [
      "Epoch 1/10\n",
      "\u001b[1m1182/1182\u001b[0m \u001b[32m━━━━━━━━━━━━━━━━━━━━\u001b[0m\u001b[37m\u001b[0m \u001b[1m13s\u001b[0m 9ms/step - accuracy: 0.9111 - loss: 0.3133 - val_accuracy: 0.9460 - val_loss: 0.1844\n",
      "Epoch 2/10\n",
      "\u001b[1m1182/1182\u001b[0m \u001b[32m━━━━━━━━━━━━━━━━━━━━\u001b[0m\u001b[37m\u001b[0m \u001b[1m10s\u001b[0m 9ms/step - accuracy: 0.9598 - loss: 0.1385 - val_accuracy: 0.9579 - val_loss: 0.1398\n",
      "Epoch 3/10\n",
      "\u001b[1m1182/1182\u001b[0m \u001b[32m━━━━━━━━━━━━━━━━━━━━\u001b[0m\u001b[37m\u001b[0m \u001b[1m10s\u001b[0m 9ms/step - accuracy: 0.9711 - loss: 0.0969 - val_accuracy: 0.9652 - val_loss: 0.1143\n",
      "Epoch 4/10\n",
      "\u001b[1m1182/1182\u001b[0m \u001b[32m━━━━━━━━━━━━━━━━━━━━\u001b[0m\u001b[37m\u001b[0m \u001b[1m10s\u001b[0m 8ms/step - accuracy: 0.9788 - loss: 0.0723 - val_accuracy: 0.9705 - val_loss: 0.0983\n",
      "Epoch 5/10\n",
      "\u001b[1m1182/1182\u001b[0m \u001b[32m━━━━━━━━━━━━━━━━━━━━\u001b[0m\u001b[37m\u001b[0m \u001b[1m10s\u001b[0m 8ms/step - accuracy: 0.9838 - loss: 0.0542 - val_accuracy: 0.9640 - val_loss: 0.1172\n",
      "Epoch 6/10\n",
      "\u001b[1m1182/1182\u001b[0m \u001b[32m━━━━━━━━━━━━━━━━━━━━\u001b[0m\u001b[37m\u001b[0m \u001b[1m11s\u001b[0m 9ms/step - accuracy: 0.9869 - loss: 0.0442 - val_accuracy: 0.9636 - val_loss: 0.1204\n",
      "Epoch 7/10\n",
      "\u001b[1m1182/1182\u001b[0m \u001b[32m━━━━━━━━━━━━━━━━━━━━\u001b[0m\u001b[37m\u001b[0m \u001b[1m10s\u001b[0m 8ms/step - accuracy: 0.9889 - loss: 0.0353 - val_accuracy: 0.9662 - val_loss: 0.1069\n",
      "Epoch 8/10\n",
      "\u001b[1m1182/1182\u001b[0m \u001b[32m━━━━━━━━━━━━━━━━━━━━\u001b[0m\u001b[37m\u001b[0m \u001b[1m10s\u001b[0m 8ms/step - accuracy: 0.9921 - loss: 0.0278 - val_accuracy: 0.9721 - val_loss: 0.0923\n",
      "Epoch 9/10\n",
      "\u001b[1m1182/1182\u001b[0m \u001b[32m━━━━━━━━━━━━━━━━━━━━\u001b[0m\u001b[37m\u001b[0m \u001b[1m11s\u001b[0m 9ms/step - accuracy: 0.9939 - loss: 0.0213 - val_accuracy: 0.9731 - val_loss: 0.0997\n",
      "Epoch 10/10\n",
      "\u001b[1m1182/1182\u001b[0m \u001b[32m━━━━━━━━━━━━━━━━━━━━\u001b[0m\u001b[37m\u001b[0m \u001b[1m9s\u001b[0m 8ms/step - accuracy: 0.9945 - loss: 0.0184 - val_accuracy: 0.9738 - val_loss: 0.0923\n"
     ]
    },
    {
     "data": {
      "text/plain": [
       "<keras.src.callbacks.history.History at 0x10eec3d27e0>"
      ]
     },
     "execution_count": 25,
     "metadata": {},
     "output_type": "execute_result"
    }
   ],
   "source": [
    "model.fit(X_train, y_train, epochs=10, validation_data=(X_val, y_val))"
   ]
  },
  {
   "cell_type": "markdown",
   "id": "26dc4c75-ec65-4b96-a70b-1edc861ceebc",
   "metadata": {},
   "source": [
    "**10. Evaluate on validation set (just to check accuracy)**"
   ]
  },
  {
   "cell_type": "code",
   "execution_count": 26,
   "id": "1d96d29b-ac37-4c7d-baae-db5334475c78",
   "metadata": {},
   "outputs": [
    {
     "name": "stdout",
     "output_type": "stream",
     "text": [
      "132/132 - 1s - 6ms/step - accuracy: 0.9738 - loss: 0.0923\n",
      "\n",
      "Validation accuracy: 0.973809540271759\n"
     ]
    }
   ],
   "source": [
    "val_loss, val_acc = model.evaluate(X_val, y_val, verbose=2)\n",
    "print(\"\\nValidation accuracy:\", val_acc)"
   ]
  },
  {
   "cell_type": "markdown",
   "id": "eadcdbc8-eb0b-4479-b54e-15a104b65f78",
   "metadata": {},
   "source": [
    "**11. Predict labels for Kaggle test.csv**"
   ]
  },
  {
   "cell_type": "code",
   "execution_count": 27,
   "id": "bfdd8b55-2f6c-46fe-a462-f626a1693671",
   "metadata": {},
   "outputs": [
    {
     "name": "stdout",
     "output_type": "stream",
     "text": [
      "\u001b[1m875/875\u001b[0m \u001b[32m━━━━━━━━━━━━━━━━━━━━\u001b[0m\u001b[37m\u001b[0m \u001b[1m3s\u001b[0m 4ms/step\n"
     ]
    }
   ],
   "source": [
    "predictions = model.predict(test_images)\n",
    "predicted_labels = predictions.argmax(axis=1)"
   ]
  },
  {
   "cell_type": "markdown",
   "id": "49818d55-a78d-4e39-b5f6-1d48617b34ad",
   "metadata": {},
   "source": [
    "**12. Create submission file**"
   ]
  },
  {
   "cell_type": "code",
   "execution_count": 28,
   "id": "e2090a17-f5c9-4b40-b2ee-f637621953f0",
   "metadata": {},
   "outputs": [
    {
     "name": "stdout",
     "output_type": "stream",
     "text": [
      "✅ submission.csv is ready for Kaggle upload!\n"
     ]
    }
   ],
   "source": [
    "submission = pd.DataFrame({\n",
    "    \"ImageId\": list(range(1, len(predicted_labels)+1)),\n",
    "    \"Label\": predicted_labels\n",
    "})\n",
    "submission.to_csv(\"submission.csv\", index=False)\n",
    "print(\"✅ submission.csv is ready for Kaggle upload!\")\n"
   ]
  },
  {
   "cell_type": "code",
   "execution_count": null,
   "id": "b31c3346-8d5b-400d-9997-3629b28db592",
   "metadata": {},
   "outputs": [],
   "source": []
  }
 ],
 "metadata": {
  "kernelspec": {
   "display_name": "Python 3 (ipykernel)",
   "language": "python",
   "name": "python3"
  },
  "language_info": {
   "codemirror_mode": {
    "name": "ipython",
    "version": 3
   },
   "file_extension": ".py",
   "mimetype": "text/x-python",
   "name": "python",
   "nbconvert_exporter": "python",
   "pygments_lexer": "ipython3",
   "version": "3.12.7"
  }
 },
 "nbformat": 4,
 "nbformat_minor": 5
}
